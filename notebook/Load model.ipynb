{
 "cells": [
  {
   "cell_type": "code",
   "execution_count": null,
   "id": "c1bca665",
   "metadata": {
    "scrolled": true
   },
   "outputs": [],
   "source": [
    "import sys\n",
    "sys.argv = ['']\n",
    "\n",
    "import torch\n",
    "from src.model_LN_prompt import Model"
   ]
  },
  {
   "cell_type": "markdown",
   "id": "131c8fb7",
   "metadata": {},
   "source": [
    "### Cargamos el modelo"
   ]
  },
  {
   "cell_type": "code",
   "execution_count": null,
   "id": "e5dbac0e",
   "metadata": {},
   "outputs": [],
   "source": [
    "device = torch.device(\"cuda\") if torch.cuda.is_available() else torch.device(\"cpu\")"
   ]
  },
  {
   "cell_type": "code",
   "execution_count": null,
   "id": "ad93e399",
   "metadata": {},
   "outputs": [],
   "source": [
    "path_model = './models/dino_qdext.ckpt'"
   ]
  },
  {
   "cell_type": "code",
   "execution_count": null,
   "id": "b7b53d14",
   "metadata": {},
   "outputs": [],
   "source": [
    "model = Model().to(device)\n",
    "model_checkpoint = torch.load(path_model, map_location=device)\n",
    "model.load_state_dict(model_checkpoint['state_dict'])   \n",
    "model.eval()"
   ]
  },
  {
   "cell_type": "code",
   "execution_count": null,
   "id": "76fc834c",
   "metadata": {},
   "outputs": [],
   "source": [
    "data = torch.randn(1,3,224,224).to('cuda')"
   ]
  },
  {
   "cell_type": "markdown",
   "id": "577397e2",
   "metadata": {},
   "source": [
    "## Lectura de imagen"
   ]
  },
  {
   "cell_type": "code",
   "execution_count": null,
   "id": "deea7ffb",
   "metadata": {},
   "outputs": [],
   "source": [
    "image = model(data, dtype='image')"
   ]
  },
  {
   "cell_type": "markdown",
   "id": "705c44c2",
   "metadata": {},
   "source": [
    "## Lectura de sketch"
   ]
  },
  {
   "cell_type": "code",
   "execution_count": null,
   "id": "40294d19",
   "metadata": {},
   "outputs": [],
   "source": [
    "sketch = model(data, dtype='sketch')"
   ]
  },
  {
   "cell_type": "code",
   "execution_count": null,
   "id": "c13d2974",
   "metadata": {},
   "outputs": [],
   "source": [
    "print(image.shape)"
   ]
  },
  {
   "cell_type": "code",
   "execution_count": null,
   "id": "19bb5072",
   "metadata": {},
   "outputs": [],
   "source": [
    "print(sketch.shape)"
   ]
  },
  {
   "cell_type": "code",
   "execution_count": null,
   "id": "8029da02",
   "metadata": {},
   "outputs": [],
   "source": [
    "(image - sketch).mean()"
   ]
  },
  {
   "cell_type": "code",
   "execution_count": null,
   "id": "87f727d0",
   "metadata": {},
   "outputs": [],
   "source": []
  }
 ],
 "metadata": {
  "kernelspec": {
   "display_name": "Python 3 (ipykernel)",
   "language": "python",
   "name": "python3"
  },
  "language_info": {
   "codemirror_mode": {
    "name": "ipython",
    "version": 3
   },
   "file_extension": ".py",
   "mimetype": "text/x-python",
   "name": "python",
   "nbconvert_exporter": "python",
   "pygments_lexer": "ipython3",
   "version": "3.10.12"
  }
 },
 "nbformat": 4,
 "nbformat_minor": 5
}
